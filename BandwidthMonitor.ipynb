{
 "cells": [
  {
   "cell_type": "code",
   "execution_count": 7,
   "metadata": {},
   "outputs": [
    {
     "name": "stdout",
     "output_type": "stream",
     "text": [
      "O/I Recording Started!\n",
      "Recieved:42 Bytes  Sent:70 Bytes\n",
      "O/I Recording Stopped!\n",
      "O/I Recording Started!\n",
      "Recieved:1156 Bytes  Sent:583 Bytes\n",
      "O/I Recording Stopped!\n"
     ]
    }
   ],
   "source": [
    "import psutil\n",
    "import time\n",
    "import threading \n",
    "\n",
    "end = False\n",
    "\n",
    "class BandwidthMonitor():\n",
    "    def __init__(self):\n",
    "        sent = 0\n",
    "        recv = 0\n",
    "    \n",
    "    \n",
    "    \n",
    "    \n",
    "    def startRecord(self,runTime):\n",
    "        x = psutil.net_io_counters(pernic=True)\n",
    "        self.sent =  x['wlp3s0'][0]\n",
    "        self.recv = x['wlp3s0'][1]\n",
    "       \n",
    "        def ioNet(running):\n",
    "            \n",
    "            while running.is_set():\n",
    "                x = psutil.net_io_counters(pernic=True)\n",
    "                info = 'Recieved:'+str(x['wlp3s0'][1]-self.recv)+' Bytes  Sent:'+str(x['wlp3s0'][0]-self.sent)+' Bytes'   \n",
    "                print (info, end=\"\\r\")\n",
    "                time.sleep(1)\n",
    "                \n",
    "            \n",
    "        event = threading.Event()\n",
    "        event.set()\n",
    "            \n",
    "        thread = threading.Thread(target = ioNet,args = (event, ))\n",
    "        print('O/I Recording Started!')\n",
    "        thread.start()\n",
    "            \n",
    "        time.sleep(runTime)\n",
    "        event.clear()\n",
    "        thread.join()\n",
    "        print('\\nO/I Recording Stopped!')\n",
    "        \n",
    "       \n",
    "               \n",
    "b = BandwidthMonitor()\n",
    "b.startRecord(2)\n",
    "b.startRecord(3)\n",
    "         \n",
    "               "
   ]
  },
  {
   "cell_type": "code",
   "execution_count": null,
   "metadata": {},
   "outputs": [],
   "source": []
  },
  {
   "cell_type": "code",
   "execution_count": null,
   "metadata": {},
   "outputs": [],
   "source": []
  }
 ],
 "metadata": {
  "kernelspec": {
   "display_name": "Python 3",
   "language": "python",
   "name": "python3"
  },
  "language_info": {
   "codemirror_mode": {
    "name": "ipython",
    "version": 3
   },
   "file_extension": ".py",
   "mimetype": "text/x-python",
   "name": "python",
   "nbconvert_exporter": "python",
   "pygments_lexer": "ipython3",
   "version": "3.7.3"
  }
 },
 "nbformat": 4,
 "nbformat_minor": 2
}
